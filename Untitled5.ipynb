{
  "nbformat": 4,
  "nbformat_minor": 0,
  "metadata": {
    "colab": {
      "name": "Untitled5.ipynb",
      "provenance": [],
      "collapsed_sections": [],
      "authorship_tag": "ABX9TyPeTc/tsFT+Vhv1+SodKePK",
      "include_colab_link": true
    },
    "kernelspec": {
      "name": "python3",
      "display_name": "Python 3"
    },
    "accelerator": "GPU"
  },
  "cells": [
    {
      "cell_type": "markdown",
      "metadata": {
        "id": "view-in-github",
        "colab_type": "text"
      },
      "source": [
        "<a href=\"https://colab.research.google.com/github/tImIhAcK/DSN_AI_Bootcamp_2020/blob/master/Untitled5.ipynb\" target=\"_parent\"><img src=\"https://colab.research.google.com/assets/colab-badge.svg\" alt=\"Open In Colab\"/></a>"
      ]
    },
    {
      "cell_type": "code",
      "metadata": {
        "id": "hNba7LmPV05Q",
        "colab_type": "code",
        "colab": {}
      },
      "source": [
        "# To support both python 2 and python 3\n",
        "from __future__ import division, print_function, unicode_literals\n",
        "\n",
        "import numpy as np # linear algebra\n",
        "import pandas as pd # data processing, CSV file I/O (e.g. pd.read_csv)\n",
        "\n",
        "# To plot pretty figures\n",
        "%matplotlib inline\n",
        "import matplotlib as mpl\n",
        "import matplotlib.pyplot as plt\n",
        "mpl.rc('axes', labelsize=14)\n",
        "mpl.rc('xtick', labelsize=12)\n",
        "mpl.rc('ytick', labelsize=12)\n",
        "\n",
        "# To make this notebook's output stable across runs\n",
        "np.random.seed(42)\n",
        "\n",
        "# Ignore useless warnings (see SciPy issue #5998)\n",
        "import warnings\n",
        "warnings.filterwarnings(action=\"ignore\", message=\"^internal gelsd\")"
      ],
      "execution_count": null,
      "outputs": []
    },
    {
      "cell_type": "code",
      "metadata": {
        "id": "wCJHH-jEsrW8",
        "colab_type": "code",
        "colab": {}
      },
      "source": [
        "import os\n",
        "\n",
        "def load_dataset(path, filename):\n",
        "  csv_path = os.path.join(path, filename)\n",
        "  return pd.read_csv(csv_path)"
      ],
      "execution_count": null,
      "outputs": []
    },
    {
      "cell_type": "code",
      "metadata": {
        "id": "Vf2eNp0ns7UY",
        "colab_type": "code",
        "colab": {}
      },
      "source": [
        "PATH = 'https://raw.githubusercontent.com/tImIhAcK/DSN_AI_Bootcamp_2020/master/'\n",
        "\n",
        "train = load_dataset(PATH, 'Train.csv')\n",
        "test = load_dataset(PATH, 'Test.csv')\n",
        "sample_submission = load_dataset(PATH, 'SampleSubmission.csv')"
      ],
      "execution_count": null,
      "outputs": []
    },
    {
      "cell_type": "code",
      "metadata": {
        "id": "m10vRWNmgbsr",
        "colab_type": "code",
        "colab": {}
      },
      "source": [
        "#train.head()"
      ],
      "execution_count": null,
      "outputs": []
    },
    {
      "cell_type": "markdown",
      "metadata": {
        "id": "pj6GPCH_Ahl8",
        "colab_type": "text"
      },
      "source": [
        "## **Preparing Data For Algorithm**"
      ]
    },
    {
      "cell_type": "code",
      "metadata": {
        "id": "aRpESpVgAwsr",
        "colab_type": "code",
        "colab": {}
      },
      "source": [
        "# Transform target value\n",
        "from sklearn.preprocessing import LabelEncoder\n",
        "\n",
        "def transform_cat(label):\n",
        "    encoder = LabelEncoder()\n",
        "    label_encoded = encoder.fit_transform(label)\n",
        "    label_encoded\n",
        "\n",
        "    return label_encoded"
      ],
      "execution_count": null,
      "outputs": []
    },
    {
      "cell_type": "code",
      "metadata": {
        "id": "gphDufkcA1Jz",
        "colab_type": "code",
        "colab": {
          "base_uri": "https://localhost:8080/",
          "height": 33
        },
        "outputId": "9ed65c13-5fbd-42d1-9687-a6a712c0b78e"
      },
      "source": [
        "from keras.utils.np_utils import to_categorical\n",
        "\n",
        "label = train['default_status'].values\n",
        "target_train = to_categorical(transform_cat(label))[:, 1]\n",
        "target_train"
      ],
      "execution_count": null,
      "outputs": [
        {
          "output_type": "execute_result",
          "data": {
            "text/plain": [
              "array([0., 0., 1., ..., 0., 0., 0.], dtype=float32)"
            ]
          },
          "metadata": {
            "tags": []
          },
          "execution_count": 9
        }
      ]
    },
    {
      "cell_type": "code",
      "metadata": {
        "id": "ECwKhkgUA6PO",
        "colab_type": "code",
        "colab": {
          "base_uri": "https://localhost:8080/",
          "height": 33
        },
        "outputId": "2af3f736-cbef-4aca-da9b-8e14de1a5356"
      },
      "source": [
        "# Concatinating train and test for easy featuring\n",
        "ntrain = train.shape[0]\n",
        "ntest = test.shape[0]\n",
        "\n",
        "all_data = pd.concat((train, test)).reset_index(drop=True)\n",
        "\n",
        "# Drop Target variable\n",
        "all_data.drop(['default_status'], axis=1, inplace=True)\n",
        "\n",
        "print(\"Total data size is: {}\".format(all_data.shape))"
      ],
      "execution_count": null,
      "outputs": [
        {
          "output_type": "stream",
          "text": [
            "Total data size is: (80000, 51)\n"
          ],
          "name": "stdout"
        }
      ]
    },
    {
      "cell_type": "code",
      "metadata": {
        "id": "-DlKZfT5BAbs",
        "colab_type": "code",
        "colab": {
          "base_uri": "https://localhost:8080/",
          "height": 50
        },
        "outputId": "1b2ba402-ab9c-4b36-9c7b-2297a7e26884"
      },
      "source": [
        "# Dealing with missing values with scikit-learn\n",
        "from sklearn.impute import SimpleImputer\n",
        "imputer = SimpleImputer(strategy='median')\n",
        "\n",
        "# Since median only compute numerical attributes,create\n",
        "# a copy of the data without text attibute(ocean_proximity)\n",
        "all_data_cat = [column for column in all_data.columns if all_data[column].dtypes == 'O']\n",
        "for i in range(len(all_data_cat)):\n",
        "    all_data_num = all_data.drop(all_data_cat, axis=1)\n",
        "    \n",
        "# fit the imputer instance to the training data set\n",
        "imputer.fit(all_data_num)"
      ],
      "execution_count": null,
      "outputs": [
        {
          "output_type": "execute_result",
          "data": {
            "text/plain": [
              "SimpleImputer(add_indicator=False, copy=True, fill_value=None,\n",
              "              missing_values=nan, strategy='median', verbose=0)"
            ]
          },
          "metadata": {
            "tags": []
          },
          "execution_count": 11
        }
      ]
    },
    {
      "cell_type": "code",
      "metadata": {
        "id": "Ka34Pz3kBEcP",
        "colab_type": "code",
        "colab": {}
      },
      "source": [
        "# Use the trained imputer to transform the training set by replacing missing values with the learned median\n",
        "X = imputer.transform(all_data_num)\n",
        "\n",
        "# Convert back to Pandas Dataframe\n",
        "predictors = pd.DataFrame(X, columns=all_data_num.columns)\n",
        "#predictors.head()"
      ],
      "execution_count": null,
      "outputs": []
    },
    {
      "cell_type": "code",
      "metadata": {
        "id": "qYdEUIy8BPB6",
        "colab_type": "code",
        "colab": {
          "base_uri": "https://localhost:8080/",
          "height": 131
        },
        "outputId": "83b4d1cb-19bf-41d5-b702-191f2898aa9c"
      },
      "source": [
        "# Handling Text and Categorical Attributes\n",
        "all_data_cats = to_categorical(transform_cat(all_data['form_field47'].values))\n",
        "all_data_cats"
      ],
      "execution_count": null,
      "outputs": [
        {
          "output_type": "execute_result",
          "data": {
            "text/plain": [
              "array([[1., 0.],\n",
              "       [1., 0.],\n",
              "       [1., 0.],\n",
              "       ...,\n",
              "       [1., 0.],\n",
              "       [1., 0.],\n",
              "       [1., 0.]], dtype=float32)"
            ]
          },
          "metadata": {
            "tags": []
          },
          "execution_count": 13
        }
      ]
    },
    {
      "cell_type": "code",
      "metadata": {
        "id": "JpRzDLqpBTu7",
        "colab_type": "code",
        "colab": {}
      },
      "source": [
        "predictors['form_field47_charge'] = all_data_cats[:, 1]\n",
        "predictors['form_field47_lending'] = all_data_cats[:, 0]"
      ],
      "execution_count": null,
      "outputs": []
    },
    {
      "cell_type": "code",
      "metadata": {
        "id": "ShJYFQb9BaLr",
        "colab_type": "code",
        "colab": {}
      },
      "source": [
        "from sklearn.preprocessing import LabelBinarizer, OneHotEncoder, StandardScaler\n",
        "from sklearn.pipeline import Pipeline\n",
        "\n",
        "scaler = StandardScaler()\n",
        "predictors = scaler.fit_transform(predictors)"
      ],
      "execution_count": null,
      "outputs": []
    },
    {
      "cell_type": "code",
      "metadata": {
        "id": "s5j2hTXNCQgE",
        "colab_type": "code",
        "colab": {}
      },
      "source": [
        "predictors_train = predictors[:ntrain]\n",
        "predictors_test = predictors[ntrain:]"
      ],
      "execution_count": null,
      "outputs": []
    },
    {
      "cell_type": "code",
      "metadata": {
        "id": "A45GFEp9CnCl",
        "colab_type": "code",
        "colab": {}
      },
      "source": [
        ""
      ],
      "execution_count": null,
      "outputs": []
    },
    {
      "cell_type": "markdown",
      "metadata": {
        "id": "yiEkID0eD7OB",
        "colab_type": "text"
      },
      "source": [
        "### **Select and Train a Model**"
      ]
    },
    {
      "cell_type": "code",
      "metadata": {
        "id": "thDYpVoNCp-K",
        "colab_type": "code",
        "colab": {}
      },
      "source": [
        "from keras.layers import Dense, BatchNormalization \n",
        "from keras.models import Sequential\n",
        "from keras.callbacks import EarlyStopping\n",
        "\n",
        "class Model:\n",
        "    def __init__(self, model):\n",
        "        self.model = model\n",
        "        \n",
        "    def input_layer(self, nn, activation, n_cols):\n",
        "        \"\"\"\n",
        "        \"\"\"\n",
        "        model = self.model\n",
        "        model.add(Dense(nn, activation=activation, input_shape =(n_cols,), kernel_initializer='normal'))\n",
        "        model.add(BatchNormalization())\n",
        "        return model\n",
        "    \n",
        "    def hidden_layer(self, model, nn, activation):\n",
        "        model.add(Dense(nn, activation=activation, kernel_initializer='normal'))\n",
        "        model.add(BatchNormalization())\n",
        "        return model\n",
        "    \n",
        "    def output_layer(self, model, nn, activation):\n",
        "        model.add(Dense(1, activation=activation, kernel_initializer='normal'))\n",
        "        return model\n",
        "    \n",
        "    def compiling(self, model, optimizer, loss, metrics):\n",
        "        model.compile(optimizer=optimizer, loss=loss, metrics=metrics)\n",
        "        return model\n",
        "    \n",
        "    def fitting(self, model, predictors, target, epoch, split, callback, batch_size):\n",
        "        model.fit(predictors, target, epochs=epoch, validation_split=split, callbacks=callback, batch_size=batch_size)"
      ],
      "execution_count": null,
      "outputs": []
    },
    {
      "cell_type": "code",
      "metadata": {
        "id": "m4Ngz-kGCw49",
        "colab_type": "code",
        "colab": {}
      },
      "source": [
        "# Turn Keras Model into a Sklearn Estimator\n",
        "from keras.wrappers.scikit_learn import KerasClassifier\n",
        "\n",
        "def main(model, activation_layer, activation_output, n_cols, my_optimizer, early_stopping, epochs, nn, nl, metrics, batch_size):\n",
        "    for unit in nn:\n",
        "        for activation in activation_layer:\n",
        "            input_model = model.input_layer(unit, activation, n_cols)\n",
        "            for layer in nl:\n",
        "                hidden_model = model.hidden_layer(input_model, unit, activation)\n",
        "                output_model = model.output_layer(hidden_model, unit, activation=activation_output)\n",
        "                for opt in my_optimizer:\n",
        "                    comp_model = model.compiling(output_model, opt, 'binary_crossentropy', metrics)\n",
        "                    for batch_size in batch_sizes:\n",
        "                      for epoch in epochs:\n",
        "                        history = model.fitting(comp_model, predictors_train, target_train, epoch, 0.2, early_stopping,  batch_size)\n",
        "                        print(\"==================Training====================\")\n",
        "    return model, history"
      ],
      "execution_count": null,
      "outputs": []
    },
    {
      "cell_type": "code",
      "metadata": {
        "id": "wBw9-5I4ENtA",
        "colab_type": "code",
        "colab": {
          "base_uri": "https://localhost:8080/",
          "height": 635
        },
        "outputId": "1db39867-e7b6-450e-b0b7-717a2ccba982"
      },
      "source": [
        "from keras.optimizers import Adam, Nadam, SGD\n",
        "from keras.metrics import AUC\n",
        "from keras.losses import  binary_crossentropy, logcosh\n",
        "from keras.activations import *\n",
        "from keras.initializers import RandomNormal, RandomUniform\n",
        "\n",
        "\n",
        "activation_layer = ['relu']\n",
        "activation_output = 'sigmoid'\n",
        "#lr_to_test = [0.00001, 0.01, 1]\n",
        "n_cols = predictors_train.shape[1]\n",
        "my_optimizer = ['adam']\n",
        "early_stopping = [EarlyStopping(monitor='val_loss', patience=2)]\n",
        "epochs = np.array(np.arange(10, 25, 5))\n",
        "batch_sizes = (4, 6)\n",
        "metrics = ['AUC']\n",
        "nn = np.array([25, 50]) # No of Unit in each layer\n",
        "nl = np.array(np.arange(2, 10)) # No of hidden layer\n",
        "\n",
        "\n",
        "# Instantiating the class\n",
        "model = Model(Sequential())\n",
        "\n",
        "history = main(model, activation_layer, activation_output, n_cols, my_optimizer, early_stopping, epochs, nn, nl, metrics, batch_sizes)"
      ],
      "execution_count": null,
      "outputs": [
        {
          "output_type": "stream",
          "text": [
            "Epoch 1/10\n",
            "11200/11200 [==============================] - 42s 4ms/step - loss: 0.4817 - auc: 0.7640 - val_loss: 0.4017 - val_auc: 0.8170\n",
            "Epoch 2/10\n",
            "11200/11200 [==============================] - 42s 4ms/step - loss: 0.4710 - auc: 0.7776 - val_loss: 0.4007 - val_auc: 0.8177\n",
            "Epoch 3/10\n",
            "11200/11200 [==============================] - 42s 4ms/step - loss: 0.4705 - auc: 0.7783 - val_loss: 0.3994 - val_auc: 0.8232\n",
            "Epoch 4/10\n",
            "11200/11200 [==============================] - 42s 4ms/step - loss: 0.4699 - auc: 0.7798 - val_loss: 0.3974 - val_auc: 0.8249\n",
            "Epoch 5/10\n",
            "11200/11200 [==============================] - 43s 4ms/step - loss: 0.4662 - auc: 0.7843 - val_loss: 0.4000 - val_auc: 0.8259\n",
            "Epoch 6/10\n",
            "11200/11200 [==============================] - 42s 4ms/step - loss: 0.4678 - auc: 0.7851 - val_loss: 0.4064 - val_auc: 0.8248\n",
            "==================Training====================\n",
            "Epoch 1/15\n",
            "11200/11200 [==============================] - 43s 4ms/step - loss: 0.4659 - auc: 0.7852 - val_loss: 0.4020 - val_auc: 0.8269\n",
            "Epoch 2/15\n",
            "11200/11200 [==============================] - 42s 4ms/step - loss: 0.4645 - auc: 0.7880 - val_loss: 0.4086 - val_auc: 0.8240\n",
            "Epoch 3/15\n",
            "11200/11200 [==============================] - 42s 4ms/step - loss: 0.4641 - auc: 0.7903 - val_loss: 0.4007 - val_auc: 0.8293\n",
            "Epoch 4/15\n",
            "11200/11200 [==============================] - 42s 4ms/step - loss: 0.4632 - auc: 0.7906 - val_loss: 0.4101 - val_auc: 0.8259\n",
            "Epoch 5/15\n",
            "11200/11200 [==============================] - 42s 4ms/step - loss: 0.4622 - auc: 0.7914 - val_loss: 0.3955 - val_auc: 0.8300\n",
            "Epoch 6/15\n",
            "11200/11200 [==============================] - 42s 4ms/step - loss: 0.4623 - auc: 0.7918 - val_loss: 0.3994 - val_auc: 0.8312\n",
            "Epoch 7/15\n",
            "11200/11200 [==============================] - 43s 4ms/step - loss: 0.4615 - auc: 0.7922 - val_loss: 0.4022 - val_auc: 0.8319\n",
            "==================Training====================\n",
            "Epoch 1/20\n",
            "11200/11200 [==============================] - 42s 4ms/step - loss: 0.4619 - auc: 0.7923 - val_loss: 0.3961 - val_auc: 0.8304\n",
            "Epoch 2/20\n",
            "11200/11200 [==============================] - 43s 4ms/step - loss: 0.4622 - auc: 0.7911 - val_loss: 0.3966 - val_auc: 0.8305\n",
            "Epoch 3/20\n",
            "11200/11200 [==============================] - 42s 4ms/step - loss: 0.4614 - auc: 0.7935 - val_loss: 0.3958 - val_auc: 0.8298\n",
            "Epoch 4/20\n",
            "11200/11200 [==============================] - 42s 4ms/step - loss: 0.4637 - auc: 0.7899 - val_loss: 0.3990 - val_auc: 0.8269\n",
            "Epoch 5/20\n",
            "11200/11200 [==============================] - 42s 4ms/step - loss: 0.4622 - auc: 0.7910 - val_loss: 0.3989 - val_auc: 0.8288\n",
            "==================Training====================\n",
            "Epoch 1/10\n",
            "7467/7467 [==============================] - 40s 5ms/step - loss: 0.4494 - auc: 0.8062 - val_loss: 0.3978 - val_auc: 0.8316\n",
            "Epoch 2/10\n",
            "7467/7467 [==============================] - 40s 5ms/step - loss: 0.4459 - auc: 0.8100 - val_loss: 0.3951 - val_auc: 0.8312\n",
            "Epoch 3/10\n",
            "7467/7467 [==============================] - 40s 5ms/step - loss: 0.4466 - auc: 0.8087 - val_loss: 0.3951 - val_auc: 0.8322\n",
            "Epoch 4/10\n",
            "7467/7467 [==============================] - 40s 5ms/step - loss: 0.4467 - auc: 0.8087 - val_loss: 0.3936 - val_auc: 0.8345\n",
            "Epoch 5/10\n",
            "7467/7467 [==============================] - 39s 5ms/step - loss: 0.4468 - auc: 0.8095 - val_loss: 0.3974 - val_auc: 0.8313\n",
            "Epoch 6/10\n",
            "7467/7467 [==============================] - 40s 5ms/step - loss: 0.4452 - auc: 0.8109 - val_loss: 0.3950 - val_auc: 0.8317\n",
            "==================Training====================\n",
            "Epoch 1/15\n",
            "7467/7467 [==============================] - 40s 5ms/step - loss: 0.4460 - auc: 0.8103 - val_loss: 0.3954 - val_auc: 0.8335\n",
            "Epoch 2/15\n",
            "7467/7467 [==============================] - 40s 5ms/step - loss: 0.4449 - auc: 0.8107 - val_loss: 0.3911 - val_auc: 0.8330\n",
            "Epoch 3/15\n",
            "7467/7467 [==============================] - 39s 5ms/step - loss: 0.4443 - auc: 0.8123 - val_loss: 0.3970 - val_auc: 0.8323\n",
            "Epoch 4/15\n",
            "7467/7467 [==============================] - 40s 5ms/step - loss: 0.4450 - auc: 0.8110 - val_loss: 0.3989 - val_auc: 0.8336\n",
            "==================Training====================\n",
            "Epoch 1/20\n",
            "7467/7467 [==============================] - 39s 5ms/step - loss: 0.4422 - auc: 0.8138 - val_loss: 0.3997 - val_auc: 0.8268\n",
            "Epoch 2/20\n",
            "7467/7467 [==============================] - 40s 5ms/step - loss: 0.4445 - auc: 0.8122 - val_loss: 0.3925 - val_auc: 0.8338\n",
            "Epoch 3/20\n",
            "7467/7467 [==============================] - 40s 5ms/step - loss: 0.4432 - auc: 0.8131 - val_loss: 0.3957 - val_auc: 0.8340\n",
            "Epoch 4/20\n",
            "7467/7467 [==============================] - 40s 5ms/step - loss: 0.4446 - auc: 0.8123 - val_loss: 0.3950 - val_auc: 0.8325\n",
            "==================Training====================\n",
            "Epoch 1/10\n",
            "5600/5600 [==============================] - 30s 5ms/step - loss: 0.4369 - auc: 0.8189 - val_loss: 0.3909 - val_auc: 0.8344\n",
            "Epoch 2/10\n",
            "5600/5600 [==============================] - 30s 5ms/step - loss: 0.4380 - auc: 0.8182 - val_loss: 0.3958 - val_auc: 0.8354\n",
            "Epoch 3/10\n",
            "5600/5600 [==============================] - 30s 5ms/step - loss: 0.4371 - auc: 0.8191 - val_loss: 0.3923 - val_auc: 0.8365\n",
            "==================Training====================\n",
            "Epoch 1/15\n",
            "5600/5600 [==============================] - 30s 5ms/step - loss: 0.4376 - auc: 0.8189 - val_loss: 0.3914 - val_auc: 0.8342\n",
            "Epoch 2/15\n",
            "5600/5600 [==============================] - 30s 5ms/step - loss: 0.4350 - auc: 0.8209 - val_loss: 0.3918 - val_auc: 0.8359\n",
            "Epoch 3/15\n",
            "5600/5600 [==============================] - 29s 5ms/step - loss: 0.4356 - auc: 0.8210 - val_loss: 0.3895 - val_auc: 0.8357\n",
            "Epoch 4/15\n",
            "5600/5600 [==============================] - 30s 5ms/step - loss: 0.4360 - auc: 0.8200 - val_loss: 0.3862 - val_auc: 0.8351\n",
            "Epoch 5/15\n",
            "5600/5600 [==============================] - 30s 5ms/step - loss: 0.4370 - auc: 0.8188 - val_loss: 0.3916 - val_auc: 0.8336\n",
            "Epoch 6/15\n",
            "5600/5600 [==============================] - 29s 5ms/step - loss: 0.4349 - auc: 0.8213 - val_loss: 0.3904 - val_auc: 0.8362\n",
            "==================Training====================\n",
            "Epoch 1/20\n",
            "5600/5600 [==============================] - 30s 5ms/step - loss: 0.4332 - auc: 0.8223 - val_loss: 0.3943 - val_auc: 0.8345\n",
            "Epoch 2/20\n",
            "5600/5600 [==============================] - 29s 5ms/step - loss: 0.4348 - auc: 0.8210 - val_loss: 0.3888 - val_auc: 0.8347\n",
            "Epoch 3/20\n",
            "5600/5600 [==============================] - 29s 5ms/step - loss: 0.4355 - auc: 0.8202 - val_loss: 0.3920 - val_auc: 0.8351\n",
            "Epoch 4/20\n",
            "5600/5600 [==============================] - 30s 5ms/step - loss: 0.4349 - auc: 0.8205 - val_loss: 0.3954 - val_auc: 0.8351\n",
            "==================Training====================\n",
            "Epoch 1/10\n",
            "11200/11200 [==============================] - 41s 4ms/step - loss: 0.4577 - auc: 0.7967 - val_loss: 0.3950 - val_auc: 0.8338\n",
            "Epoch 2/10\n",
            "11200/11200 [==============================] - 42s 4ms/step - loss: 0.4565 - auc: 0.7980 - val_loss: 0.3924 - val_auc: 0.8342\n",
            "Epoch 3/10\n",
            "11200/11200 [==============================] - 41s 4ms/step - loss: 0.4589 - auc: 0.7959 - val_loss: 0.3973 - val_auc: 0.8339\n",
            "Epoch 4/10\n",
            "11200/11200 [==============================] - 41s 4ms/step - loss: 0.4584 - auc: 0.7957 - val_loss: 0.4005 - val_auc: 0.8300\n",
            "==================Training====================\n",
            "Epoch 1/15\n",
            "11200/11200 [==============================] - 41s 4ms/step - loss: 0.4575 - auc: 0.7964 - val_loss: 0.3966 - val_auc: 0.8334\n",
            "Epoch 2/15\n",
            "11200/11200 [==============================] - 41s 4ms/step - loss: 0.4555 - auc: 0.7993 - val_loss: 0.3949 - val_auc: 0.8345\n",
            "Epoch 3/15\n",
            "11200/11200 [==============================] - 41s 4ms/step - loss: 0.4568 - auc: 0.7969 - val_loss: 0.3964 - val_auc: 0.8342\n",
            "Epoch 4/15\n",
            "11200/11200 [==============================] - 41s 4ms/step - loss: 0.4560 - auc: 0.7996 - val_loss: 0.4016 - val_auc: 0.8338\n",
            "==================Training====================\n",
            "Epoch 1/20\n",
            "11200/11200 [==============================] - 42s 4ms/step - loss: 0.4567 - auc: 0.7982 - val_loss: 0.4018 - val_auc: 0.8323\n",
            "Epoch 2/20\n",
            "11200/11200 [==============================] - 41s 4ms/step - loss: 0.4581 - auc: 0.7968 - val_loss: 0.3938 - val_auc: 0.8332\n",
            "Epoch 3/20\n",
            "11200/11200 [==============================] - 41s 4ms/step - loss: 0.4567 - auc: 0.7980 - val_loss: 0.3957 - val_auc: 0.8329\n",
            "Epoch 4/20\n",
            "11200/11200 [==============================] - 41s 4ms/step - loss: 0.4579 - auc: 0.7963 - val_loss: 0.3939 - val_auc: 0.8341\n",
            "==================Training====================\n",
            "Epoch 1/10\n",
            "7467/7467 [==============================] - 39s 5ms/step - loss: 0.4429 - auc: 0.8127 - val_loss: 0.3996 - val_auc: 0.8337\n",
            "Epoch 2/10\n",
            "7467/7467 [==============================] - 38s 5ms/step - loss: 0.4418 - auc: 0.8151 - val_loss: 0.3975 - val_auc: 0.8340\n",
            "Epoch 3/10\n",
            "7467/7467 [==============================] - 38s 5ms/step - loss: 0.4395 - auc: 0.8168 - val_loss: 0.3965 - val_auc: 0.8326\n",
            "Epoch 4/10\n",
            "7467/7467 [==============================] - 39s 5ms/step - loss: 0.4405 - auc: 0.8162 - val_loss: 0.3979 - val_auc: 0.8326\n",
            "Epoch 5/10\n",
            "7467/7467 [==============================] - 40s 5ms/step - loss: 0.4422 - auc: 0.8149 - val_loss: 0.3995 - val_auc: 0.8328\n",
            "==================Training====================\n",
            "Epoch 1/15\n",
            "7467/7467 [==============================] - 39s 5ms/step - loss: 0.4412 - auc: 0.8157 - val_loss: 0.3954 - val_auc: 0.8330\n",
            "Epoch 2/15\n",
            "7467/7467 [==============================] - 39s 5ms/step - loss: 0.4428 - auc: 0.8132 - val_loss: 0.4016 - val_auc: 0.8310\n",
            "Epoch 3/15\n",
            "7467/7467 [==============================] - 39s 5ms/step - loss: 0.4419 - auc: 0.8144 - val_loss: 0.4034 - val_auc: 0.8314\n",
            "==================Training====================\n",
            "Epoch 1/20\n",
            "7467/7467 [==============================] - 38s 5ms/step - loss: 0.4401 - auc: 0.8166 - val_loss: 0.3955 - val_auc: 0.8327\n",
            "Epoch 2/20\n",
            "7467/7467 [==============================] - 38s 5ms/step - loss: 0.4404 - auc: 0.8162 - val_loss: 0.4070 - val_auc: 0.8319\n",
            "Epoch 3/20\n",
            "7467/7467 [==============================] - 38s 5ms/step - loss: 0.4422 - auc: 0.8146 - val_loss: 0.4179 - val_auc: 0.8329\n",
            "==================Training====================\n",
            "Epoch 1/10\n",
            "5600/5600 [==============================] - 29s 5ms/step - loss: 0.4330 - auc: 0.8232 - val_loss: 0.4119 - val_auc: 0.8335\n",
            "Epoch 2/10\n",
            "5600/5600 [==============================] - 29s 5ms/step - loss: 0.4345 - auc: 0.8219 - val_loss: 0.4032 - val_auc: 0.8339\n",
            "Epoch 3/10\n",
            "5600/5600 [==============================] - 29s 5ms/step - loss: 0.4342 - auc: 0.8223 - val_loss: 0.4000 - val_auc: 0.8334\n",
            "Epoch 4/10\n",
            "5600/5600 [==============================] - 29s 5ms/step - loss: 0.4322 - auc: 0.8241 - val_loss: 0.4132 - val_auc: 0.8328\n",
            "Epoch 5/10\n",
            "5600/5600 [==============================] - 29s 5ms/step - loss: 0.4317 - auc: 0.8246 - val_loss: 0.3985 - val_auc: 0.8319\n",
            "Epoch 6/10\n",
            "5600/5600 [==============================] - 29s 5ms/step - loss: 0.4326 - auc: 0.8232 - val_loss: 0.3961 - val_auc: 0.8333\n",
            "Epoch 7/10\n",
            "5600/5600 [==============================] - 29s 5ms/step - loss: 0.4333 - auc: 0.8228 - val_loss: 0.3964 - val_auc: 0.8331\n",
            "Epoch 8/10\n",
            "5600/5600 [==============================] - 29s 5ms/step - loss: 0.4344 - auc: 0.8221 - val_loss: 0.3974 - val_auc: 0.8337\n",
            "==================Training====================\n",
            "Epoch 1/15\n",
            "5600/5600 [==============================] - 29s 5ms/step - loss: 0.4343 - auc: 0.8226 - val_loss: 0.3965 - val_auc: 0.8338\n",
            "Epoch 2/15\n",
            "5600/5600 [==============================] - 29s 5ms/step - loss: 0.4328 - auc: 0.8239 - val_loss: 0.3995 - val_auc: 0.8343\n",
            "Epoch 3/15\n",
            "5600/5600 [==============================] - 29s 5ms/step - loss: 0.4318 - auc: 0.8245 - val_loss: 0.3982 - val_auc: 0.8339\n",
            "==================Training====================\n",
            "Epoch 1/20\n",
            "5600/5600 [==============================] - 29s 5ms/step - loss: 0.4312 - auc: 0.8243 - val_loss: 0.3978 - val_auc: 0.8336\n",
            "Epoch 2/20\n",
            "5600/5600 [==============================] - 29s 5ms/step - loss: 0.4312 - auc: 0.8245 - val_loss: 0.3996 - val_auc: 0.8322\n",
            "Epoch 3/20\n",
            "5600/5600 [==============================] - 29s 5ms/step - loss: 0.4325 - auc: 0.8238 - val_loss: 0.4060 - val_auc: 0.8327\n",
            "==================Training====================\n",
            "Epoch 1/10\n",
            "11200/11200 [==============================] - 48s 4ms/step - loss: 0.4599 - auc: 0.7925 - val_loss: 0.3987 - val_auc: 0.8292\n",
            "Epoch 2/10\n",
            "11200/11200 [==============================] - 53s 5ms/step - loss: 0.4581 - auc: 0.7947 - val_loss: 0.4277 - val_auc: 0.8316\n",
            "Epoch 3/10\n",
            "11200/11200 [==============================] - 49s 4ms/step - loss: 0.4576 - auc: 0.7963 - val_loss: 0.4332 - val_auc: 0.8312\n",
            "==================Training====================\n",
            "Epoch 1/15\n",
            "11200/11200 [==============================] - 49s 4ms/step - loss: 0.4592 - auc: 0.7947 - val_loss: 0.4451 - val_auc: 0.8324\n",
            "Epoch 2/15\n",
            "11200/11200 [==============================] - 49s 4ms/step - loss: 0.4621 - auc: 0.7909 - val_loss: 0.3974 - val_auc: 0.8315\n",
            "Epoch 3/15\n",
            "11200/11200 [==============================] - 50s 4ms/step - loss: 0.4605 - auc: 0.7930 - val_loss: 0.4178 - val_auc: 0.8331\n",
            "Epoch 4/15\n",
            "11200/11200 [==============================] - 49s 4ms/step - loss: 0.4623 - auc: 0.7903 - val_loss: 0.4164 - val_auc: 0.8324\n",
            "==================Training====================\n",
            "Epoch 1/20\n",
            "11200/11200 [==============================] - 48s 4ms/step - loss: 0.4605 - auc: 0.7926 - val_loss: 0.4134 - val_auc: 0.8323\n",
            "Epoch 2/20\n",
            "11200/11200 [==============================] - 48s 4ms/step - loss: 0.4603 - auc: 0.7921 - val_loss: 0.4036 - val_auc: 0.8332\n",
            "Epoch 3/20\n",
            "11120/11200 [============================>.] - ETA: 0s - loss: 0.4603 - auc: 0.7921Buffered data was truncated after reaching the output size limit."
          ],
          "name": "stdout"
        }
      ]
    },
    {
      "cell_type": "code",
      "metadata": {
        "id": "R3bQp3G2ETLM",
        "colab_type": "code",
        "colab": {}
      },
      "source": [
        "def plot_loss(loss, val_loss):\n",
        "    plt.figure()\n",
        "    plt.plot(loss)\n",
        "    plt.plot(val_loss)\n",
        "    plt.title('Model Loss')\n",
        "    plt.ylabel('Loss')\n",
        "    plt.xlabel('Epoch')\n",
        "    plt.legend(['Train', 'Test'], loc='upper right')"
      ],
      "execution_count": null,
      "outputs": []
    },
    {
      "cell_type": "code",
      "metadata": {
        "id": "JkTiVavEmj3c",
        "colab_type": "code",
        "colab": {
          "base_uri": "https://localhost:8080/",
          "height": 158
        },
        "outputId": "9cb34f18-d712-44a5-c76b-33db2b1e1eb6"
      },
      "source": [
        "plot_loss(history.history['auc'], history.history(['val_loss']))"
      ],
      "execution_count": null,
      "outputs": [
        {
          "output_type": "error",
          "ename": "NameError",
          "evalue": "ignored",
          "traceback": [
            "\u001b[0;31m---------------------------------------------------------------------------\u001b[0m",
            "\u001b[0;31mNameError\u001b[0m                                 Traceback (most recent call last)",
            "\u001b[0;32m<ipython-input-2-7a76c9feb5cd>\u001b[0m in \u001b[0;36m<module>\u001b[0;34m()\u001b[0m\n\u001b[0;32m----> 1\u001b[0;31m \u001b[0mplot_loss\u001b[0m\u001b[0;34m(\u001b[0m\u001b[0mhistory\u001b[0m\u001b[0;34m.\u001b[0m\u001b[0mhistory\u001b[0m\u001b[0;34m[\u001b[0m\u001b[0;34m'auc'\u001b[0m\u001b[0;34m]\u001b[0m\u001b[0;34m,\u001b[0m \u001b[0mhistory\u001b[0m\u001b[0;34m.\u001b[0m\u001b[0mhistory\u001b[0m\u001b[0;34m(\u001b[0m\u001b[0;34m[\u001b[0m\u001b[0;34m'val_loss'\u001b[0m\u001b[0;34m]\u001b[0m\u001b[0;34m)\u001b[0m\u001b[0;34m)\u001b[0m\u001b[0;34m\u001b[0m\u001b[0;34m\u001b[0m\u001b[0m\n\u001b[0m",
            "\u001b[0;31mNameError\u001b[0m: name 'history' is not defined"
          ]
        }
      ]
    },
    {
      "cell_type": "code",
      "metadata": {
        "id": "8Sp-ue30sAmq",
        "colab_type": "code",
        "colab": {}
      },
      "source": [
        "def main(model, params):\n",
        "  \"\"\"\n",
        "  \"\"\"\n",
        "  # Fisrt Layer\n",
        "  input_model = model.input_layer(neurons=params['neurons'], activation=params['activation_layer'], n_cols=params['n_cols'], kernel_init=params['kernel_init'])\n",
        "  # Hidden Layers\n",
        "  hidden_model = model.hidden_layer(input_model, neurons=params['neurons'], activation=params['activation_layer'], kernel_init=params['kernel_init'])\n",
        "  # Output Layer\n",
        "  output_model = model.output_layer(hidden_model, neuron_out=params['neuron_out'], activation=params['activation_output'], kernel_init=params['kernel_init'])\n",
        "  # Compiling\n",
        "  comp_model = model.compiling(output_model, optimizer=params['optimizer'](lr=lr_normalizer(params['lr'], params['optimizer'])), loss=params['loss'], metrics=params['metrics'])\n",
        "  # Fitting\n",
        "  history = model.fitting(comp_model, predictors=params['predictors'], target=params['target'], epoch=params[epochs], val_split=params['val_split'], early_stopping=params['early_stopping'], batch_size=params['batch_size'])\n",
        "  print(\"==================Training====================\")\n",
        "  \n",
        "  return model, history\n",
        "\n",
        "params = {'lr': (0.001, 0.1, 1, 2),\n",
        "          'epochs': np.array(np.arange(10, 100, 10)),\n",
        "          'n_cols': predictors_train.shape[1],\n",
        "          'activation_layer' : ['relu', 'elu'],\n",
        "          'activation_output' : sigmoid,\n",
        "          'metrics' : [AUC],\n",
        "          'batch_size': (4, 6, 8),\n",
        "          'optimizer': [Adam, Nadam, SGD],\n",
        "          'loss': [binary_crossentropy],\n",
        "          'early_stopping' : [EarlyStopping(monitor='val_loss', patience=3)],\n",
        "          'neurons': np.array(np.arange(25, 100, 25)),\n",
        "          'hidden_layer': np.array(np.arange(3, 25)),\n",
        "          'neuron_out': (1),\n",
        "          'val_split': (0.2, 0.3),\n",
        "          'kernel_init': [RandomNormal, RandomUniform],\n",
        "          'predictors': predictors_train,\n",
        "          'target': target_train\n",
        "          }\n"
      ],
      "execution_count": null,
      "outputs": []
    }
  ]
}